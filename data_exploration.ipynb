{
 "cells": [
  {
   "cell_type": "code",
   "execution_count": 1,
   "id": "c1382a64-b552-4f4c-80c3-25041fcc9739",
   "metadata": {},
   "outputs": [
    {
     "name": "stdout",
     "output_type": "stream",
     "text": [
      "Collecting pandas\n",
      "  Using cached pandas-1.3.5-cp39-cp39-macosx_10_9_x86_64.whl (11.3 MB)\n",
      "Requirement already satisfied: python-dateutil>=2.7.3 in /Users/jakubsmekal/Development/Neuro/neuro/lib/python3.9/site-packages (from pandas) (2.8.2)\n",
      "Collecting pytz>=2017.3\n",
      "  Using cached pytz-2021.3-py2.py3-none-any.whl (503 kB)\n",
      "Requirement already satisfied: numpy>=1.17.3 in /Users/jakubsmekal/Development/Neuro/neuro/lib/python3.9/site-packages (from pandas) (1.21.4)\n",
      "Requirement already satisfied: six>=1.5 in /Users/jakubsmekal/Development/Neuro/neuro/lib/python3.9/site-packages (from python-dateutil>=2.7.3->pandas) (1.16.0)\n",
      "Installing collected packages: pytz, pandas\n",
      "Successfully installed pandas-1.3.5 pytz-2021.3\n",
      "\u001b[33mWARNING: You are using pip version 21.1.1; however, version 21.3.1 is available.\n",
      "You should consider upgrading via the '/Users/jakubsmekal/Development/Neuro/neuro/bin/python3 -m pip install --upgrade pip' command.\u001b[0m\n"
     ]
    }
   ],
   "source": [
    "! pip install pandas"
   ]
  },
  {
   "cell_type": "code",
   "execution_count": 2,
   "id": "1376a33f-59a9-4740-9392-c0b0a60286a6",
   "metadata": {},
   "outputs": [],
   "source": [
    "from models.transformer import TransformerModel"
   ]
  },
  {
   "cell_type": "code",
   "execution_count": 1,
   "id": "6cd5738b-1b89-4e24-bcc8-04405588e168",
   "metadata": {},
   "outputs": [],
   "source": [
    "import pandas as pd\n",
    "import matplotlib.pyplot as plt"
   ]
  },
  {
   "cell_type": "code",
   "execution_count": 2,
   "id": "d0c8383c-3d66-4e11-b434-684f40a468e3",
   "metadata": {},
   "outputs": [],
   "source": [
    "data_path = './kt4subset/students/u265925.csv'"
   ]
  },
  {
   "cell_type": "code",
   "execution_count": 3,
   "id": "61722ba8-551c-44af-bd1f-5f30f556ce1c",
   "metadata": {},
   "outputs": [],
   "source": [
    "data = pd.read_csv(data_path)"
   ]
  },
  {
   "cell_type": "code",
   "execution_count": 4,
   "id": "c3d67ddc-b5db-4f2f-a6a3-9da6eafa1c12",
   "metadata": {},
   "outputs": [
    {
     "data": {
      "text/html": [
       "<div>\n",
       "<style scoped>\n",
       "    .dataframe tbody tr th:only-of-type {\n",
       "        vertical-align: middle;\n",
       "    }\n",
       "\n",
       "    .dataframe tbody tr th {\n",
       "        vertical-align: top;\n",
       "    }\n",
       "\n",
       "    .dataframe thead th {\n",
       "        text-align: right;\n",
       "    }\n",
       "</style>\n",
       "<table border=\"1\" class=\"dataframe\">\n",
       "  <thead>\n",
       "    <tr style=\"text-align: right;\">\n",
       "      <th></th>\n",
       "      <th>timestamp</th>\n",
       "      <th>action_type</th>\n",
       "      <th>item_id</th>\n",
       "      <th>cursor_time</th>\n",
       "      <th>source</th>\n",
       "      <th>user_answer</th>\n",
       "      <th>platform</th>\n",
       "    </tr>\n",
       "  </thead>\n",
       "  <tbody>\n",
       "    <tr>\n",
       "      <th>0</th>\n",
       "      <td>1537793156353</td>\n",
       "      <td>enter</td>\n",
       "      <td>b5136</td>\n",
       "      <td>NaN</td>\n",
       "      <td>diagnosis</td>\n",
       "      <td>NaN</td>\n",
       "      <td>web</td>\n",
       "    </tr>\n",
       "    <tr>\n",
       "      <th>1</th>\n",
       "      <td>1537793163340</td>\n",
       "      <td>respond</td>\n",
       "      <td>q6730</td>\n",
       "      <td>NaN</td>\n",
       "      <td>diagnosis</td>\n",
       "      <td>a</td>\n",
       "      <td>web</td>\n",
       "    </tr>\n",
       "    <tr>\n",
       "      <th>2</th>\n",
       "      <td>1537793164960</td>\n",
       "      <td>submit</td>\n",
       "      <td>b5136</td>\n",
       "      <td>NaN</td>\n",
       "      <td>diagnosis</td>\n",
       "      <td>NaN</td>\n",
       "      <td>web</td>\n",
       "    </tr>\n",
       "    <tr>\n",
       "      <th>3</th>\n",
       "      <td>1537793166415</td>\n",
       "      <td>enter</td>\n",
       "      <td>b206</td>\n",
       "      <td>NaN</td>\n",
       "      <td>diagnosis</td>\n",
       "      <td>NaN</td>\n",
       "      <td>web</td>\n",
       "    </tr>\n",
       "    <tr>\n",
       "      <th>4</th>\n",
       "      <td>1537793182712</td>\n",
       "      <td>respond</td>\n",
       "      <td>q206</td>\n",
       "      <td>NaN</td>\n",
       "      <td>diagnosis</td>\n",
       "      <td>c</td>\n",
       "      <td>web</td>\n",
       "    </tr>\n",
       "  </tbody>\n",
       "</table>\n",
       "</div>"
      ],
      "text/plain": [
       "       timestamp action_type item_id  cursor_time     source user_answer  \\\n",
       "0  1537793156353       enter   b5136          NaN  diagnosis         NaN   \n",
       "1  1537793163340     respond   q6730          NaN  diagnosis           a   \n",
       "2  1537793164960      submit   b5136          NaN  diagnosis         NaN   \n",
       "3  1537793166415       enter    b206          NaN  diagnosis         NaN   \n",
       "4  1537793182712     respond    q206          NaN  diagnosis           c   \n",
       "\n",
       "  platform  \n",
       "0      web  \n",
       "1      web  \n",
       "2      web  \n",
       "3      web  \n",
       "4      web  "
      ]
     },
     "execution_count": 4,
     "metadata": {},
     "output_type": "execute_result"
    }
   ],
   "source": [
    "data.head()"
   ]
  },
  {
   "cell_type": "code",
   "execution_count": 14,
   "id": "01dc13f1-45b5-41f2-b27b-ae0192c2fe75",
   "metadata": {
    "collapsed": true,
    "jupyter": {
     "outputs_hidden": true
    },
    "tags": []
   },
   "outputs": [
    {
     "name": "stdout",
     "output_type": "stream",
     "text": [
      "Collecting transformers\n",
      "  Downloading transformers-4.14.1-py3-none-any.whl (3.4 MB)\n",
      "\u001b[K     |████████████████████████████████| 3.4 MB 4.0 MB/s eta 0:00:01\n",
      "\u001b[?25hCollecting regex!=2019.12.17\n",
      "  Using cached regex-2021.11.10-cp39-cp39-macosx_10_9_x86_64.whl (288 kB)\n",
      "Collecting tokenizers<0.11,>=0.10.1\n",
      "  Using cached tokenizers-0.10.3-cp39-cp39-macosx_10_11_x86_64.whl (2.2 MB)\n",
      "Collecting pyyaml>=5.1\n",
      "  Using cached PyYAML-6.0-cp39-cp39-macosx_10_9_x86_64.whl (197 kB)\n",
      "Collecting requests\n",
      "  Using cached requests-2.26.0-py2.py3-none-any.whl (62 kB)\n",
      "Requirement already satisfied: numpy>=1.17 in /Users/jakubsmekal/Development/Neuro/neuro/lib/python3.9/site-packages (from transformers) (1.21.4)\n",
      "Collecting sacremoses\n",
      "  Using cached sacremoses-0.0.46-py3-none-any.whl (895 kB)\n",
      "Requirement already satisfied: packaging>=20.0 in /Users/jakubsmekal/Development/Neuro/neuro/lib/python3.9/site-packages (from transformers) (21.3)\n",
      "Collecting filelock\n",
      "  Using cached filelock-3.4.0-py3-none-any.whl (9.8 kB)\n",
      "Collecting tqdm>=4.27\n",
      "  Using cached tqdm-4.62.3-py2.py3-none-any.whl (76 kB)\n",
      "Collecting huggingface-hub<1.0,>=0.1.0\n",
      "  Using cached huggingface_hub-0.2.1-py3-none-any.whl (61 kB)\n",
      "Collecting typing-extensions>=3.7.4.3\n",
      "  Using cached typing_extensions-4.0.1-py3-none-any.whl (22 kB)\n",
      "Requirement already satisfied: pyparsing!=3.0.5,>=2.0.2 in /Users/jakubsmekal/Development/Neuro/neuro/lib/python3.9/site-packages (from packaging>=20.0->transformers) (3.0.6)\n",
      "Collecting certifi>=2017.4.17\n",
      "  Using cached certifi-2021.10.8-py2.py3-none-any.whl (149 kB)\n",
      "Collecting idna<4,>=2.5\n",
      "  Using cached idna-3.3-py3-none-any.whl (61 kB)\n",
      "Collecting charset-normalizer~=2.0.0\n",
      "  Using cached charset_normalizer-2.0.9-py3-none-any.whl (39 kB)\n",
      "Collecting urllib3<1.27,>=1.21.1\n",
      "  Using cached urllib3-1.26.7-py2.py3-none-any.whl (138 kB)\n",
      "Collecting joblib\n",
      "  Using cached joblib-1.1.0-py2.py3-none-any.whl (306 kB)\n",
      "Requirement already satisfied: six in /Users/jakubsmekal/Development/Neuro/neuro/lib/python3.9/site-packages (from sacremoses->transformers) (1.16.0)\n",
      "Collecting click\n",
      "  Using cached click-8.0.3-py3-none-any.whl (97 kB)\n",
      "Installing collected packages: urllib3, idna, charset-normalizer, certifi, typing-extensions, tqdm, requests, regex, pyyaml, joblib, filelock, click, tokenizers, sacremoses, huggingface-hub, transformers\n",
      "Successfully installed certifi-2021.10.8 charset-normalizer-2.0.9 click-8.0.3 filelock-3.4.0 huggingface-hub-0.2.1 idna-3.3 joblib-1.1.0 pyyaml-6.0 regex-2021.11.10 requests-2.26.0 sacremoses-0.0.46 tokenizers-0.10.3 tqdm-4.62.3 transformers-4.14.1 typing-extensions-4.0.1 urllib3-1.26.7\n",
      "\u001b[33mWARNING: You are using pip version 21.1.1; however, version 21.3.1 is available.\n",
      "You should consider upgrading via the '/Users/jakubsmekal/Development/Neuro/neuro/bin/python3 -m pip install --upgrade pip' command.\u001b[0m\n"
     ]
    }
   ],
   "source": [
    "!pip install transformers"
   ]
  },
  {
   "cell_type": "code",
   "execution_count": 5,
   "id": "eb4de900-57da-4b23-864d-23d3dd751b69",
   "metadata": {},
   "outputs": [
    {
     "data": {
      "text/plain": [
       "0     1537793156353\n",
       "1     1537793163340\n",
       "2     1537793164960\n",
       "3     1537793166415\n",
       "4     1537793182712\n",
       "5     1537793183708\n",
       "6     1537793185094\n",
       "7     1537793203644\n",
       "8     1537793204396\n",
       "9     1537793205798\n",
       "10    1537793238005\n",
       "11    1537793238689\n",
       "12    1537793252315\n",
       "13    1537793264004\n",
       "14    1537793265788\n",
       "15    1537793292918\n",
       "16    1537793297828\n",
       "17    1537793301116\n",
       "18    1537793302501\n",
       "19    1537793325709\n",
       "20    1537793328267\n",
       "21    1537793330003\n",
       "22    1537793331541\n",
       "23    1537793361491\n",
       "24    1537793362525\n",
       "25    1537793400655\n",
       "26    1537793406620\n",
       "27    1537793407602\n",
       "Name: timestamp, dtype: int64"
      ]
     },
     "execution_count": 5,
     "metadata": {},
     "output_type": "execute_result"
    }
   ],
   "source": [
    "timestamps = data['timestamp']\n",
    "timestamps"
   ]
  },
  {
   "cell_type": "code",
   "execution_count": 6,
   "id": "56be8c7e-af6f-4124-809e-77d9c1a28724",
   "metadata": {},
   "outputs": [
    {
     "data": {
      "text/plain": [
       "[<matplotlib.lines.Line2D at 0x116c303d0>]"
      ]
     },
     "execution_count": 6,
     "metadata": {},
     "output_type": "execute_result"
    },
    {
     "data": {
      "image/png": "[encoded data removed]",
      "text/plain": [
       "<Figure size 432x288 with 1 Axes>"
      ]
     },
     "metadata": {
      "needs_background": "light"
     },
     "output_type": "display_data"
    }
   ],
   "source": [
    "plt.plot(timestamps)"
   ]
  },
  {
   "cell_type": "code",
   "execution_count": 39,
   "id": "9805bc46-c2e6-4fcc-ae20-0cf1740b89d2",
   "metadata": {},
   "outputs": [
    {
     "data": {
      "text/html": [
       "<div>\n",
       "<style scoped>\n",
       "    .dataframe tbody tr th:only-of-type {\n",
       "        vertical-align: middle;\n",
       "    }\n",
       "\n",
       "    .dataframe tbody tr th {\n",
       "        vertical-align: top;\n",
       "    }\n",
       "\n",
       "    .dataframe thead th {\n",
       "        text-align: right;\n",
       "    }\n",
       "</style>\n",
       "<table border=\"1\" class=\"dataframe\">\n",
       "  <thead>\n",
       "    <tr style=\"text-align: right;\">\n",
       "      <th></th>\n",
       "      <th>question_id</th>\n",
       "      <th>bundle_id</th>\n",
       "      <th>explanation_id</th>\n",
       "      <th>correct_answer</th>\n",
       "      <th>part</th>\n",
       "      <th>tags</th>\n",
       "      <th>deployed_at</th>\n",
       "    </tr>\n",
       "  </thead>\n",
       "  <tbody>\n",
       "    <tr>\n",
       "      <th>0</th>\n",
       "      <td>q1</td>\n",
       "      <td>b1</td>\n",
       "      <td>e1</td>\n",
       "      <td>b</td>\n",
       "      <td>1</td>\n",
       "      <td>1;2;179;181</td>\n",
       "      <td>1558093217098</td>\n",
       "    </tr>\n",
       "    <tr>\n",
       "      <th>1</th>\n",
       "      <td>q2</td>\n",
       "      <td>b2</td>\n",
       "      <td>e2</td>\n",
       "      <td>a</td>\n",
       "      <td>1</td>\n",
       "      <td>15;2;182</td>\n",
       "      <td>1558093219720</td>\n",
       "    </tr>\n",
       "    <tr>\n",
       "      <th>2</th>\n",
       "      <td>q3</td>\n",
       "      <td>b3</td>\n",
       "      <td>e3</td>\n",
       "      <td>b</td>\n",
       "      <td>1</td>\n",
       "      <td>14;2;179;183</td>\n",
       "      <td>1558093222784</td>\n",
       "    </tr>\n",
       "    <tr>\n",
       "      <th>3</th>\n",
       "      <td>q4</td>\n",
       "      <td>b4</td>\n",
       "      <td>e4</td>\n",
       "      <td>b</td>\n",
       "      <td>1</td>\n",
       "      <td>9;2;179;184</td>\n",
       "      <td>1558093225357</td>\n",
       "    </tr>\n",
       "    <tr>\n",
       "      <th>4</th>\n",
       "      <td>q5</td>\n",
       "      <td>b5</td>\n",
       "      <td>e5</td>\n",
       "      <td>c</td>\n",
       "      <td>1</td>\n",
       "      <td>8;2;179;181</td>\n",
       "      <td>1558093228439</td>\n",
       "    </tr>\n",
       "  </tbody>\n",
       "</table>\n",
       "</div>"
      ],
      "text/plain": [
       "  question_id bundle_id explanation_id correct_answer  part          tags  \\\n",
       "0          q1        b1             e1              b     1   1;2;179;181   \n",
       "1          q2        b2             e2              a     1      15;2;182   \n",
       "2          q3        b3             e3              b     1  14;2;179;183   \n",
       "3          q4        b4             e4              b     1   9;2;179;184   \n",
       "4          q5        b5             e5              c     1   8;2;179;181   \n",
       "\n",
       "     deployed_at  \n",
       "0  1558093217098  \n",
       "1  1558093219720  \n",
       "2  1558093222784  \n",
       "3  1558093225357  \n",
       "4  1558093228439  "
      ]
     },
     "execution_count": 39,
     "metadata": {},
     "output_type": "execute_result"
    }
   ],
   "source": [
    "questions = pd.read_csv('./kt4subset/questions.csv')\n",
    "questions.head()"
   ]
  },
  {
   "cell_type": "code",
   "execution_count": 8,
   "id": "d92dd48d-e81d-4e81-82bd-df8fd4190851",
   "metadata": {},
   "outputs": [
    {
     "data": {
      "text/plain": [
       "0    1558093217098\n",
       "1    1558093219720\n",
       "2    1558093222784\n",
       "3    1558093225357\n",
       "4    1558093228439\n",
       "Name: deployed_at, dtype: int64"
      ]
     },
     "execution_count": 8,
     "metadata": {},
     "output_type": "execute_result"
    }
   ],
   "source": [
    "q_timestamps = questions['deployed_at']\n",
    "q_timestamps.head()"
   ]
  },
  {
   "cell_type": "code",
   "execution_count": 9,
   "id": "7a38de8d-b730-4080-a3aa-acf34b060b1d",
   "metadata": {},
   "outputs": [],
   "source": [
    "subset_question_timestamps = pd.DataFrame()"
   ]
  },
  {
   "cell_type": "code",
   "execution_count": 10,
   "id": "50c60dc1-32d3-4aae-bff1-177f46e33912",
   "metadata": {},
   "outputs": [],
   "source": [
    "for ts in timestamps:\n",
    "    if ts in q_timestamps:\n",
    "        subset_question_timestamps.add(ts)"
   ]
  },
  {
   "cell_type": "code",
   "execution_count": 11,
   "id": "f9bfe2ff-7007-4ee2-a585-bf749df563e0",
   "metadata": {},
   "outputs": [
    {
     "data": {
      "text/html": [
       "<div>\n",
       "<style scoped>\n",
       "    .dataframe tbody tr th:only-of-type {\n",
       "        vertical-align: middle;\n",
       "    }\n",
       "\n",
       "    .dataframe tbody tr th {\n",
       "        vertical-align: top;\n",
       "    }\n",
       "\n",
       "    .dataframe thead th {\n",
       "        text-align: right;\n",
       "    }\n",
       "</style>\n",
       "<table border=\"1\" class=\"dataframe\">\n",
       "  <thead>\n",
       "    <tr style=\"text-align: right;\">\n",
       "      <th></th>\n",
       "    </tr>\n",
       "  </thead>\n",
       "  <tbody>\n",
       "  </tbody>\n",
       "</table>\n",
       "</div>"
      ],
      "text/plain": [
       "Empty DataFrame\n",
       "Columns: []\n",
       "Index: []"
      ]
     },
     "execution_count": 11,
     "metadata": {},
     "output_type": "execute_result"
    }
   ],
   "source": [
    "subset_question_timestamps"
   ]
  },
  {
   "cell_type": "code",
   "execution_count": 48,
   "id": "1a83dcee-1956-48e0-9454-84c0575f8581",
   "metadata": {},
   "outputs": [],
   "source": []
  },
  {
   "cell_type": "code",
   "execution_count": 12,
   "id": "49e13907-4417-49d0-a886-c50dbdb7bd67",
   "metadata": {},
   "outputs": [],
   "source": [
    "def getStudentAnswers():\n",
    "    classes = ['action_type', 'item_id', 'user_answer']\n",
    "    user_answers = pd.DataFrame(columns=classes)\n",
    "    for idx, row in data.iterrows():\n",
    "        if row['action_type'] == 'respond':\n",
    "            row = pd.Series([row['action_type'], row['item_id'], row['user_answer']], index=classes)\n",
    "            user_answers = user_answers.append(row, ignore_index=True)\n",
    "    return user_answers"
   ]
  },
  {
   "cell_type": "code",
   "execution_count": 14,
   "id": "75ecbf70-70b8-48c6-8770-74ec4ef1933d",
   "metadata": {},
   "outputs": [
    {
     "data": {
      "text/html": [
       "<div>\n",
       "<style scoped>\n",
       "    .dataframe tbody tr th:only-of-type {\n",
       "        vertical-align: middle;\n",
       "    }\n",
       "\n",
       "    .dataframe tbody tr th {\n",
       "        vertical-align: top;\n",
       "    }\n",
       "\n",
       "    .dataframe thead th {\n",
       "        text-align: right;\n",
       "    }\n",
       "</style>\n",
       "<table border=\"1\" class=\"dataframe\">\n",
       "  <thead>\n",
       "    <tr style=\"text-align: right;\">\n",
       "      <th></th>\n",
       "      <th>action_type</th>\n",
       "      <th>item_id</th>\n",
       "      <th>user_answer</th>\n",
       "    </tr>\n",
       "  </thead>\n",
       "  <tbody>\n",
       "    <tr>\n",
       "      <th>0</th>\n",
       "      <td>respond</td>\n",
       "      <td>q6730</td>\n",
       "      <td>a</td>\n",
       "    </tr>\n",
       "    <tr>\n",
       "      <th>1</th>\n",
       "      <td>respond</td>\n",
       "      <td>q206</td>\n",
       "      <td>c</td>\n",
       "    </tr>\n",
       "    <tr>\n",
       "      <th>2</th>\n",
       "      <td>respond</td>\n",
       "      <td>q218</td>\n",
       "      <td>b</td>\n",
       "    </tr>\n",
       "    <tr>\n",
       "      <th>3</th>\n",
       "      <td>respond</td>\n",
       "      <td>q6722</td>\n",
       "      <td>c</td>\n",
       "    </tr>\n",
       "    <tr>\n",
       "      <th>4</th>\n",
       "      <td>respond</td>\n",
       "      <td>q4572</td>\n",
       "      <td>a</td>\n",
       "    </tr>\n",
       "  </tbody>\n",
       "</table>\n",
       "</div>"
      ],
      "text/plain": [
       "  action_type item_id user_answer\n",
       "0     respond   q6730           a\n",
       "1     respond    q206           c\n",
       "2     respond    q218           b\n",
       "3     respond   q6722           c\n",
       "4     respond   q4572           a"
      ]
     },
     "execution_count": 14,
     "metadata": {},
     "output_type": "execute_result"
    }
   ],
   "source": [
    "user_answers = getStudentAnswers()\n",
    "user_answers.head()"
   ]
  },
  {
   "cell_type": "code",
   "execution_count": 15,
   "id": "d9d8f335-32f9-4fc3-bf07-c887f5e085a7",
   "metadata": {},
   "outputs": [],
   "source": [
    "from pathlib import Path"
   ]
  },
  {
   "cell_type": "code",
   "execution_count": 54,
   "id": "326635ea-bf22-4f2e-aacf-bbab48d57adb",
   "metadata": {},
   "outputs": [
    {
     "name": "stdout",
     "output_type": "stream",
     "text": [
      "Student id: u533092\n",
      "Student score: 6\n",
      "Questions attempted: 10\n",
      "Student id: u5901\n",
      "Student score: 6\n",
      "Questions attempted: 10\n",
      "Student id: u734989\n",
      "Student score: 6\n",
      "Questions attempted: 10\n",
      "Student id: u763609\n",
      "Student score: 6\n",
      "Questions attempted: 10\n",
      "Student id: u347548\n",
      "Student score: 6\n",
      "Questions attempted: 10\n",
      "Student id: u265925\n",
      "Student score: 6\n",
      "Questions attempted: 10\n",
      "Student id: u319352\n",
      "Student score: 6\n",
      "Questions attempted: 10\n",
      "Student id: u406983\n",
      "Student score: 6\n",
      "Questions attempted: 10\n"
     ]
    }
   ],
   "source": [
    "total_q = []\n",
    "for filename in Path('./kt4subset/students/').glob('*.csv'):\n",
    "    student = filename.name[:-4]\n",
    "    student_score = 0\n",
    "    q_attempted = 0\n",
    "    s_data = pd.read_csv(filename)\n",
    "    user_answers = getStudentAnswers()\n",
    "    for _, (i, a) in user_answers[['item_id', 'user_answer']].iterrows():\n",
    "        q_attempted += 1\n",
    "        q_row = questions.loc[questions['question_id'] == i]\n",
    "        total_q.append(i)\n",
    "        if q_row['correct_answer'].item() == a:\n",
    "            student_score += 1\n",
    "    print(f'Student id: {student}')\n",
    "    print(f'Student score: {student_score}')\n",
    "    print(f'Questions attempted: {q_attempted}')"
   ]
  },
  {
   "cell_type": "code",
   "execution_count": 53,
   "id": "ffb22c93-9b09-432e-9566-62c705de3914",
   "metadata": {},
   "outputs": [
    {
     "name": "stdout",
     "output_type": "stream",
     "text": [
      "['q6730', 'q206', 'q218', 'q6722', 'q4572', 'q10022', 'q5659', 'q5659', 'q6528', 'q3957', 'q6730', 'q206', 'q218', 'q6722', 'q4572', 'q10022', 'q5659', 'q5659', 'q6528', 'q3957']\n"
     ]
    }
   ],
   "source": [
    "max_score = 0\n",
    "# total_q = set(total_q)\n",
    "print(total_q)"
   ]
  },
  {
   "cell_type": "code",
   "execution_count": null,
   "id": "b0f5434a-aa9b-4358-8f26-561a9ac1e787",
   "metadata": {},
   "outputs": [],
   "source": []
  },
  {
   "cell_type": "code",
   "execution_count": null,
   "id": "7d7462c9-2afc-49b3-9494-e32f937d2b67",
   "metadata": {},
   "outputs": [],
   "source": []
  }
 ],
 "metadata": {
  "kernelspec": {
   "display_name": "algovera",
   "language": "python",
   "name": "algovera"
  },
  "language_info": {
   "codemirror_mode": {
    "name": "ipython",
    "version": 3
   },
   "file_extension": ".py",
   "mimetype": "text/x-python",
   "name": "python",
   "nbconvert_exporter": "python",
   "pygments_lexer": "ipython3",
   "version": "3.9.5"
  }
 },
 "nbformat": 4,
 "nbformat_minor": 5
}
