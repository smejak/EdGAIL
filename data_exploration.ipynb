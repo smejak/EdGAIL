{
 "cells": [
  {
   "cell_type": "code",
   "execution_count": 1,
   "id": "c1382a64-b552-4f4c-80c3-25041fcc9739",
   "metadata": {},
   "outputs": [
    {
     "name": "stdout",
     "output_type": "stream",
     "text": [
      "Collecting pandas\n",
      "  Using cached pandas-1.3.5-cp39-cp39-macosx_10_9_x86_64.whl (11.3 MB)\n",
      "Requirement already satisfied: python-dateutil>=2.7.3 in /Users/jakubsmekal/Development/Neuro/neuro/lib/python3.9/site-packages (from pandas) (2.8.2)\n",
      "Collecting pytz>=2017.3\n",
      "  Using cached pytz-2021.3-py2.py3-none-any.whl (503 kB)\n",
      "Requirement already satisfied: numpy>=1.17.3 in /Users/jakubsmekal/Development/Neuro/neuro/lib/python3.9/site-packages (from pandas) (1.21.4)\n",
      "Requirement already satisfied: six>=1.5 in /Users/jakubsmekal/Development/Neuro/neuro/lib/python3.9/site-packages (from python-dateutil>=2.7.3->pandas) (1.16.0)\n",
      "Installing collected packages: pytz, pandas\n",
      "Successfully installed pandas-1.3.5 pytz-2021.3\n",
      "\u001b[33mWARNING: You are using pip version 21.1.1; however, version 21.3.1 is available.\n",
      "You should consider upgrading via the '/Users/jakubsmekal/Development/Neuro/neuro/bin/python3 -m pip install --upgrade pip' command.\u001b[0m\n"
     ]
    }
   ],
   "source": [
    "! pip install pandas"
   ]
  },
  {
   "cell_type": "code",
   "execution_count": 2,
   "id": "1376a33f-59a9-4740-9392-c0b0a60286a6",
   "metadata": {},
   "outputs": [],
   "source": [
    "from models.transformer import TransformerModel"
   ]
  },
  {
   "cell_type": "code",
   "execution_count": 6,
   "id": "6cd5738b-1b89-4e24-bcc8-04405588e168",
   "metadata": {},
   "outputs": [],
   "source": [
    "import pandas as pd\n",
    "import matplotlib.pyplot as plt"
   ]
  },
  {
   "cell_type": "code",
   "execution_count": 7,
   "id": "d0c8383c-3d66-4e11-b434-684f40a468e3",
   "metadata": {},
   "outputs": [],
   "source": [
    "data_path = './kt4subset/students/u265925.csv'"
   ]
  },
  {
   "cell_type": "code",
   "execution_count": 8,
   "id": "61722ba8-551c-44af-bd1f-5f30f556ce1c",
   "metadata": {},
   "outputs": [],
   "source": [
    "data = pd.read_csv(data_path)"
   ]
  },
  {
   "cell_type": "code",
   "execution_count": 9,
   "id": "c3d67ddc-b5db-4f2f-a6a3-9da6eafa1c12",
   "metadata": {},
   "outputs": [
    {
     "data": {
      "text/html": [
       "<div>\n",
       "<style scoped>\n",
       "    .dataframe tbody tr th:only-of-type {\n",
       "        vertical-align: middle;\n",
       "    }\n",
       "\n",
       "    .dataframe tbody tr th {\n",
       "        vertical-align: top;\n",
       "    }\n",
       "\n",
       "    .dataframe thead th {\n",
       "        text-align: right;\n",
       "    }\n",
       "</style>\n",
       "<table border=\"1\" class=\"dataframe\">\n",
       "  <thead>\n",
       "    <tr style=\"text-align: right;\">\n",
       "      <th></th>\n",
       "      <th>timestamp</th>\n",
       "      <th>action_type</th>\n",
       "      <th>item_id</th>\n",
       "      <th>cursor_time</th>\n",
       "      <th>source</th>\n",
       "      <th>user_answer</th>\n",
       "      <th>platform</th>\n",
       "    </tr>\n",
       "  </thead>\n",
       "  <tbody>\n",
       "    <tr>\n",
       "      <th>0</th>\n",
       "      <td>1537793156353</td>\n",
       "      <td>enter</td>\n",
       "      <td>b5136</td>\n",
       "      <td>NaN</td>\n",
       "      <td>diagnosis</td>\n",
       "      <td>NaN</td>\n",
       "      <td>web</td>\n",
       "    </tr>\n",
       "    <tr>\n",
       "      <th>1</th>\n",
       "      <td>1537793163340</td>\n",
       "      <td>respond</td>\n",
       "      <td>q6730</td>\n",
       "      <td>NaN</td>\n",
       "      <td>diagnosis</td>\n",
       "      <td>a</td>\n",
       "      <td>web</td>\n",
       "    </tr>\n",
       "    <tr>\n",
       "      <th>2</th>\n",
       "      <td>1537793164960</td>\n",
       "      <td>submit</td>\n",
       "      <td>b5136</td>\n",
       "      <td>NaN</td>\n",
       "      <td>diagnosis</td>\n",
       "      <td>NaN</td>\n",
       "      <td>web</td>\n",
       "    </tr>\n",
       "    <tr>\n",
       "      <th>3</th>\n",
       "      <td>1537793166415</td>\n",
       "      <td>enter</td>\n",
       "      <td>b206</td>\n",
       "      <td>NaN</td>\n",
       "      <td>diagnosis</td>\n",
       "      <td>NaN</td>\n",
       "      <td>web</td>\n",
       "    </tr>\n",
       "    <tr>\n",
       "      <th>4</th>\n",
       "      <td>1537793182712</td>\n",
       "      <td>respond</td>\n",
       "      <td>q206</td>\n",
       "      <td>NaN</td>\n",
       "      <td>diagnosis</td>\n",
       "      <td>c</td>\n",
       "      <td>web</td>\n",
       "    </tr>\n",
       "  </tbody>\n",
       "</table>\n",
       "</div>"
      ],
      "text/plain": [
       "       timestamp action_type item_id  cursor_time     source user_answer  \\\n",
       "0  1537793156353       enter   b5136          NaN  diagnosis         NaN   \n",
       "1  1537793163340     respond   q6730          NaN  diagnosis           a   \n",
       "2  1537793164960      submit   b5136          NaN  diagnosis         NaN   \n",
       "3  1537793166415       enter    b206          NaN  diagnosis         NaN   \n",
       "4  1537793182712     respond    q206          NaN  diagnosis           c   \n",
       "\n",
       "  platform  \n",
       "0      web  \n",
       "1      web  \n",
       "2      web  \n",
       "3      web  \n",
       "4      web  "
      ]
     },
     "execution_count": 9,
     "metadata": {},
     "output_type": "execute_result"
    }
   ],
   "source": [
    "data.head()"
   ]
  },
  {
   "cell_type": "code",
   "execution_count": 10,
   "id": "01dc13f1-45b5-41f2-b27b-ae0192c2fe75",
   "metadata": {
    "collapsed": true,
    "jupyter": {
     "outputs_hidden": true
    },
    "tags": []
   },
   "outputs": [
    {
     "name": "stdout",
     "output_type": "stream",
     "text": [
      "Collecting transformers\n",
      "  Downloading transformers-4.15.0-py3-none-any.whl (3.4 MB)\n",
      "\u001b[K     |████████████████████████████████| 3.4 MB 808 kB/s eta 0:00:01     |████████████▉                   | 1.3 MB 1.6 MB/s eta 0:00:02\n",
      "\u001b[?25hRequirement already satisfied: tqdm>=4.27 in /Users/jakubsmekal/miniconda3/envs/algo_jupyter/lib/python3.9/site-packages (from transformers) (4.62.3)\n",
      "Collecting sacremoses\n",
      "  Downloading sacremoses-0.0.47-py2.py3-none-any.whl (895 kB)\n",
      "\u001b[K     |████████████████████████████████| 895 kB 2.2 MB/s eta 0:00:01\n",
      "\u001b[?25hRequirement already satisfied: requests in /Users/jakubsmekal/miniconda3/envs/algo_jupyter/lib/python3.9/site-packages (from transformers) (2.26.0)\n",
      "Requirement already satisfied: huggingface-hub<1.0,>=0.1.0 in /Users/jakubsmekal/miniconda3/envs/algo_jupyter/lib/python3.9/site-packages (from transformers) (0.2.1)\n",
      "Collecting tokenizers<0.11,>=0.10.1\n",
      "  Using cached tokenizers-0.10.3-cp39-cp39-macosx_10_11_x86_64.whl (2.2 MB)\n",
      "Requirement already satisfied: numpy>=1.17 in /Users/jakubsmekal/miniconda3/envs/algo_jupyter/lib/python3.9/site-packages (from transformers) (1.21.2)\n",
      "Collecting regex!=2019.12.17\n",
      "  Using cached regex-2021.11.10-cp39-cp39-macosx_10_9_x86_64.whl (288 kB)\n",
      "Requirement already satisfied: filelock in /Users/jakubsmekal/miniconda3/envs/algo_jupyter/lib/python3.9/site-packages (from transformers) (3.4.2)\n",
      "Requirement already satisfied: pyyaml>=5.1 in /Users/jakubsmekal/miniconda3/envs/algo_jupyter/lib/python3.9/site-packages (from transformers) (5.4.1)\n",
      "Requirement already satisfied: packaging>=20.0 in /Users/jakubsmekal/miniconda3/envs/algo_jupyter/lib/python3.9/site-packages (from transformers) (21.3)\n",
      "Requirement already satisfied: typing-extensions>=3.7.4.3 in /Users/jakubsmekal/miniconda3/envs/algo_jupyter/lib/python3.9/site-packages (from huggingface-hub<1.0,>=0.1.0->transformers) (4.0.1)\n",
      "Requirement already satisfied: pyparsing!=3.0.5,>=2.0.2 in /Users/jakubsmekal/miniconda3/envs/algo_jupyter/lib/python3.9/site-packages (from packaging>=20.0->transformers) (3.0.4)\n",
      "Requirement already satisfied: certifi>=2017.4.17 in /Users/jakubsmekal/miniconda3/envs/algo_jupyter/lib/python3.9/site-packages (from requests->transformers) (2021.10.8)\n",
      "Requirement already satisfied: charset-normalizer~=2.0.0 in /Users/jakubsmekal/miniconda3/envs/algo_jupyter/lib/python3.9/site-packages (from requests->transformers) (2.0.4)\n",
      "Requirement already satisfied: idna<4,>=2.5 in /Users/jakubsmekal/miniconda3/envs/algo_jupyter/lib/python3.9/site-packages (from requests->transformers) (3.3)\n",
      "Requirement already satisfied: urllib3<1.27,>=1.21.1 in /Users/jakubsmekal/miniconda3/envs/algo_jupyter/lib/python3.9/site-packages (from requests->transformers) (1.26.7)\n",
      "Collecting joblib\n",
      "  Using cached joblib-1.1.0-py2.py3-none-any.whl (306 kB)\n",
      "Requirement already satisfied: six in /Users/jakubsmekal/miniconda3/envs/algo_jupyter/lib/python3.9/site-packages (from sacremoses->transformers) (1.16.0)\n",
      "Collecting click\n",
      "  Using cached click-8.0.3-py3-none-any.whl (97 kB)\n",
      "Installing collected packages: regex, joblib, click, tokenizers, sacremoses, transformers\n",
      "Successfully installed click-8.0.3 joblib-1.1.0 regex-2021.11.10 sacremoses-0.0.47 tokenizers-0.10.3 transformers-4.15.0\n"
     ]
    }
   ],
   "source": [
    "!pip install transformers"
   ]
  },
  {
   "cell_type": "code",
   "execution_count": 11,
   "id": "eb4de900-57da-4b23-864d-23d3dd751b69",
   "metadata": {
    "collapsed": true,
    "jupyter": {
     "outputs_hidden": true
    },
    "tags": []
   },
   "outputs": [
    {
     "data": {
      "text/plain": [
       "0     1537793156353\n",
       "1     1537793163340\n",
       "2     1537793164960\n",
       "3     1537793166415\n",
       "4     1537793182712\n",
       "5     1537793183708\n",
       "6     1537793185094\n",
       "7     1537793203644\n",
       "8     1537793204396\n",
       "9     1537793205798\n",
       "10    1537793238005\n",
       "11    1537793238689\n",
       "12    1537793252315\n",
       "13    1537793264004\n",
       "14    1537793265788\n",
       "15    1537793292918\n",
       "16    1537793297828\n",
       "17    1537793301116\n",
       "18    1537793302501\n",
       "19    1537793325709\n",
       "20    1537793328267\n",
       "21    1537793330003\n",
       "22    1537793331541\n",
       "23    1537793361491\n",
       "24    1537793362525\n",
       "25    1537793400655\n",
       "26    1537793406620\n",
       "27    1537793407602\n",
       "Name: timestamp, dtype: int64"
      ]
     },
     "execution_count": 11,
     "metadata": {},
     "output_type": "execute_result"
    }
   ],
   "source": [
    "timestamps = data['timestamp']\n",
    "timestamps"
   ]
  },
  {
   "cell_type": "code",
   "execution_count": 12,
   "id": "56be8c7e-af6f-4124-809e-77d9c1a28724",
   "metadata": {},
   "outputs": [
    {
     "data": {
      "text/plain": [
       "[<matplotlib.lines.Line2D at 0x10ac75100>]"
      ]
     },
     "execution_count": 12,
     "metadata": {},
     "output_type": "execute_result"
    },
    {
     "data": {
      "image/png": "[encoded data removed]",
      "text/plain": [
       "<Figure size 432x288 with 1 Axes>"
      ]
     },
     "metadata": {
      "needs_background": "light"
     },
     "output_type": "display_data"
    }
   ],
   "source": [
    "plt.plot(timestamps)"
   ]
  },
  {
   "cell_type": "code",
   "execution_count": 13,
   "id": "9805bc46-c2e6-4fcc-ae20-0cf1740b89d2",
   "metadata": {},
   "outputs": [
    {
     "data": {
      "text/html": [
       "<div>\n",
       "<style scoped>\n",
       "    .dataframe tbody tr th:only-of-type {\n",
       "        vertical-align: middle;\n",
       "    }\n",
       "\n",
       "    .dataframe tbody tr th {\n",
       "        vertical-align: top;\n",
       "    }\n",
       "\n",
       "    .dataframe thead th {\n",
       "        text-align: right;\n",
       "    }\n",
       "</style>\n",
       "<table border=\"1\" class=\"dataframe\">\n",
       "  <thead>\n",
       "    <tr style=\"text-align: right;\">\n",
       "      <th></th>\n",
       "      <th>question_id</th>\n",
       "      <th>bundle_id</th>\n",
       "      <th>explanation_id</th>\n",
       "      <th>correct_answer</th>\n",
       "      <th>part</th>\n",
       "      <th>tags</th>\n",
       "      <th>deployed_at</th>\n",
       "    </tr>\n",
       "  </thead>\n",
       "  <tbody>\n",
       "    <tr>\n",
       "      <th>0</th>\n",
       "      <td>q1</td>\n",
       "      <td>b1</td>\n",
       "      <td>e1</td>\n",
       "      <td>b</td>\n",
       "      <td>1</td>\n",
       "      <td>1;2;179;181</td>\n",
       "      <td>1558093217098</td>\n",
       "    </tr>\n",
       "    <tr>\n",
       "      <th>1</th>\n",
       "      <td>q2</td>\n",
       "      <td>b2</td>\n",
       "      <td>e2</td>\n",
       "      <td>a</td>\n",
       "      <td>1</td>\n",
       "      <td>15;2;182</td>\n",
       "      <td>1558093219720</td>\n",
       "    </tr>\n",
       "    <tr>\n",
       "      <th>2</th>\n",
       "      <td>q3</td>\n",
       "      <td>b3</td>\n",
       "      <td>e3</td>\n",
       "      <td>b</td>\n",
       "      <td>1</td>\n",
       "      <td>14;2;179;183</td>\n",
       "      <td>1558093222784</td>\n",
       "    </tr>\n",
       "    <tr>\n",
       "      <th>3</th>\n",
       "      <td>q4</td>\n",
       "      <td>b4</td>\n",
       "      <td>e4</td>\n",
       "      <td>b</td>\n",
       "      <td>1</td>\n",
       "      <td>9;2;179;184</td>\n",
       "      <td>1558093225357</td>\n",
       "    </tr>\n",
       "    <tr>\n",
       "      <th>4</th>\n",
       "      <td>q5</td>\n",
       "      <td>b5</td>\n",
       "      <td>e5</td>\n",
       "      <td>c</td>\n",
       "      <td>1</td>\n",
       "      <td>8;2;179;181</td>\n",
       "      <td>1558093228439</td>\n",
       "    </tr>\n",
       "  </tbody>\n",
       "</table>\n",
       "</div>"
      ],
      "text/plain": [
       "  question_id bundle_id explanation_id correct_answer  part          tags  \\\n",
       "0          q1        b1             e1              b     1   1;2;179;181   \n",
       "1          q2        b2             e2              a     1      15;2;182   \n",
       "2          q3        b3             e3              b     1  14;2;179;183   \n",
       "3          q4        b4             e4              b     1   9;2;179;184   \n",
       "4          q5        b5             e5              c     1   8;2;179;181   \n",
       "\n",
       "     deployed_at  \n",
       "0  1558093217098  \n",
       "1  1558093219720  \n",
       "2  1558093222784  \n",
       "3  1558093225357  \n",
       "4  1558093228439  "
      ]
     },
     "execution_count": 13,
     "metadata": {},
     "output_type": "execute_result"
    }
   ],
   "source": [
    "questions = pd.read_csv('./kt4subset/questions.csv')\n",
    "questions.head()"
   ]
  },
  {
   "cell_type": "code",
   "execution_count": 14,
   "id": "d92dd48d-e81d-4e81-82bd-df8fd4190851",
   "metadata": {},
   "outputs": [
    {
     "data": {
      "text/plain": [
       "0    1558093217098\n",
       "1    1558093219720\n",
       "2    1558093222784\n",
       "3    1558093225357\n",
       "4    1558093228439\n",
       "Name: deployed_at, dtype: int64"
      ]
     },
     "execution_count": 14,
     "metadata": {},
     "output_type": "execute_result"
    }
   ],
   "source": [
    "q_timestamps = questions['deployed_at']\n",
    "q_timestamps.head()"
   ]
  },
  {
   "cell_type": "code",
   "execution_count": 9,
   "id": "7a38de8d-b730-4080-a3aa-acf34b060b1d",
   "metadata": {},
   "outputs": [],
   "source": [
    "subset_question_timestamps = pd.DataFrame()"
   ]
  },
  {
   "cell_type": "code",
   "execution_count": 10,
   "id": "50c60dc1-32d3-4aae-bff1-177f46e33912",
   "metadata": {},
   "outputs": [],
   "source": [
    "for ts in timestamps:\n",
    "    if ts in q_timestamps:\n",
    "        subset_question_timestamps.add(ts)"
   ]
  },
  {
   "cell_type": "code",
   "execution_count": 11,
   "id": "f9bfe2ff-7007-4ee2-a585-bf749df563e0",
   "metadata": {},
   "outputs": [
    {
     "data": {
      "text/html": [
       "<div>\n",
       "<style scoped>\n",
       "    .dataframe tbody tr th:only-of-type {\n",
       "        vertical-align: middle;\n",
       "    }\n",
       "\n",
       "    .dataframe tbody tr th {\n",
       "        vertical-align: top;\n",
       "    }\n",
       "\n",
       "    .dataframe thead th {\n",
       "        text-align: right;\n",
       "    }\n",
       "</style>\n",
       "<table border=\"1\" class=\"dataframe\">\n",
       "  <thead>\n",
       "    <tr style=\"text-align: right;\">\n",
       "      <th></th>\n",
       "    </tr>\n",
       "  </thead>\n",
       "  <tbody>\n",
       "  </tbody>\n",
       "</table>\n",
       "</div>"
      ],
      "text/plain": [
       "Empty DataFrame\n",
       "Columns: []\n",
       "Index: []"
      ]
     },
     "execution_count": 11,
     "metadata": {},
     "output_type": "execute_result"
    }
   ],
   "source": [
    "subset_question_timestamps"
   ]
  },
  {
   "cell_type": "code",
   "execution_count": 48,
   "id": "1a83dcee-1956-48e0-9454-84c0575f8581",
   "metadata": {},
   "outputs": [],
   "source": []
  },
  {
   "cell_type": "code",
   "execution_count": 15,
   "id": "49e13907-4417-49d0-a886-c50dbdb7bd67",
   "metadata": {},
   "outputs": [],
   "source": [
    "def getStudentAnswers(s_data):\n",
    "    classes = ['action_type', 'item_id', 'user_answer']\n",
    "    user_answers = pd.DataFrame(columns=classes)\n",
    "    for idx, row in s_data.iterrows():\n",
    "        if row['action_type'] == 'respond':\n",
    "            row = pd.Series([row['action_type'], row['item_id'], row['user_answer']], index=classes)\n",
    "            user_answers = user_answers.append(row, ignore_index=True)\n",
    "    return user_answers"
   ]
  },
  {
   "cell_type": "code",
   "execution_count": 14,
   "id": "75ecbf70-70b8-48c6-8770-74ec4ef1933d",
   "metadata": {},
   "outputs": [
    {
     "data": {
      "text/html": [
       "<div>\n",
       "<style scoped>\n",
       "    .dataframe tbody tr th:only-of-type {\n",
       "        vertical-align: middle;\n",
       "    }\n",
       "\n",
       "    .dataframe tbody tr th {\n",
       "        vertical-align: top;\n",
       "    }\n",
       "\n",
       "    .dataframe thead th {\n",
       "        text-align: right;\n",
       "    }\n",
       "</style>\n",
       "<table border=\"1\" class=\"dataframe\">\n",
       "  <thead>\n",
       "    <tr style=\"text-align: right;\">\n",
       "      <th></th>\n",
       "      <th>action_type</th>\n",
       "      <th>item_id</th>\n",
       "      <th>user_answer</th>\n",
       "    </tr>\n",
       "  </thead>\n",
       "  <tbody>\n",
       "    <tr>\n",
       "      <th>0</th>\n",
       "      <td>respond</td>\n",
       "      <td>q6730</td>\n",
       "      <td>a</td>\n",
       "    </tr>\n",
       "    <tr>\n",
       "      <th>1</th>\n",
       "      <td>respond</td>\n",
       "      <td>q206</td>\n",
       "      <td>c</td>\n",
       "    </tr>\n",
       "    <tr>\n",
       "      <th>2</th>\n",
       "      <td>respond</td>\n",
       "      <td>q218</td>\n",
       "      <td>b</td>\n",
       "    </tr>\n",
       "    <tr>\n",
       "      <th>3</th>\n",
       "      <td>respond</td>\n",
       "      <td>q6722</td>\n",
       "      <td>c</td>\n",
       "    </tr>\n",
       "    <tr>\n",
       "      <th>4</th>\n",
       "      <td>respond</td>\n",
       "      <td>q4572</td>\n",
       "      <td>a</td>\n",
       "    </tr>\n",
       "  </tbody>\n",
       "</table>\n",
       "</div>"
      ],
      "text/plain": [
       "  action_type item_id user_answer\n",
       "0     respond   q6730           a\n",
       "1     respond    q206           c\n",
       "2     respond    q218           b\n",
       "3     respond   q6722           c\n",
       "4     respond   q4572           a"
      ]
     },
     "execution_count": 14,
     "metadata": {},
     "output_type": "execute_result"
    }
   ],
   "source": [
    "user_answers = getStudentAnswers()\n",
    "user_answers.head()"
   ]
  },
  {
   "cell_type": "code",
   "execution_count": 4,
   "id": "d9d8f335-32f9-4fc3-bf07-c887f5e085a7",
   "metadata": {},
   "outputs": [],
   "source": [
    "from pathlib import Path"
   ]
  },
  {
   "cell_type": "code",
   "execution_count": 18,
   "id": "326635ea-bf22-4f2e-aacf-bbab48d57adb",
   "metadata": {},
   "outputs": [
    {
     "name": "stdout",
     "output_type": "stream",
     "text": [
      "Student id: u533092\n",
      "Student score: 4\n",
      "Questions attempted: 9\n",
      "Student id: u5901\n",
      "Student score: 53\n",
      "Questions attempted: 101\n",
      "Student id: u734989\n",
      "Student score: 2\n",
      "Questions attempted: 5\n",
      "Student id: u763609\n",
      "Student score: 18\n",
      "Questions attempted: 25\n",
      "Student id: u347548\n",
      "Student score: 4\n",
      "Questions attempted: 11\n",
      "Student id: u265925\n",
      "Student score: 6\n",
      "Questions attempted: 10\n",
      "Student id: u319352\n",
      "Student score: 6\n",
      "Questions attempted: 11\n",
      "Student id: u406983\n",
      "Student score: 21\n",
      "Questions attempted: 41\n"
     ]
    }
   ],
   "source": [
    "total_q = []\n",
    "student_sr = {}\n",
    "for filename in Path('./kt4subset/students/').glob('*.csv'):\n",
    "    student = filename.name[:-4]\n",
    "    student_score = 0\n",
    "    q_attempted = 0\n",
    "    s_data = pd.read_csv(filename)\n",
    "    user_answers = getStudentAnswers(s_data)\n",
    "    for _, (i, a) in user_answers[['item_id', 'user_answer']].iterrows():\n",
    "        q_attempted += 1\n",
    "        q_row = questions.loc[questions['question_id'] == i]\n",
    "        total_q.append(i)\n",
    "        if q_row['correct_answer'].item() == a:\n",
    "            student_score += 1\n",
    "    student_sr[student] = student_score / q_attempted\n",
    "    print(f'Student id: {student}')\n",
    "    print(f'Student score: {student_score}')\n",
    "    print(f'Questions attempted: {q_attempted}')"
   ]
  },
  {
   "cell_type": "code",
   "execution_count": 17,
   "id": "ffb22c93-9b09-432e-9566-62c705de3914",
   "metadata": {},
   "outputs": [
    {
     "name": "stdout",
     "output_type": "stream",
     "text": [
      "['q4672', 'q4672', 'q4778', 'q8156', 'q201', 'q489', 'q1295', 'q959', 'q959', 'q3978', 'q4611', 'q4611', 'q4611', 'q4611', 'q4813', 'q4813', 'q5564', 'q5775', 'q3670', 'q4995', 'q8423', 'q5224', 'q5224', 'q5647', 'q5647', 'q5647', 'q5647', 'q4308', 'q4308', 'q8092', 'q8092', 'q194', 'q131', 'q131', 'q131', 'q11075', 'q8162', 'q8162', 'q8068', 'q10', 'q11094', 'q3', 'q3', 'q8122', 'q8177', 'q11216', 'q8181', 'q8181', 'q3', 'q8096', 'q187', 'q10987', 'q150', 'q150', 'q8102', 'q10', 'q8102', 'q7624', 'q89', 'q11082', 'q111', 'q8165', 'q8165', 'q8089', 'q11172', 'q16', 'q186', 'q8140', 'q8140', 'q11004', 'q11004', 'q8118', 'q8163', 'q59', 'q10977', 'q8103', 'q65', 'q8108', 'q11121', 'q11121', 'q11121', 'q104', 'q8057', 'q8131', 'q11034', 'q11034', 'q19', 'q40', 'q57', 'q11127', 'q135', 'q7', 'q176', 'q11065', 'q121', 'q121', 'q190', 'q166', 'q11144', 'q11144', 'q8168', 'q77', 'q6', 'q11106', 'q11106', 'q11106', 'q22', 'q146', 'q5', 'q11095', 'q9591', 'q9601', 'q6186', 'q6731', 'q4617', 'q3861', 'q4524', 'q9072', 'q5676', 'q8839', 'q5769', 'q9037', 'q1032', 'q1032', 'q1938', 'q1938', 'q1434', 'q1434', 'q1455', 'q8109', 'q44', 'q167', 'q11247', 'q11247', 'q11234', 'q11170', 'q8114', 'q174', 'q11167', 'q8179', 'q3616', 'q154', 'q888', 'q6489', 'q9580', 'q5508', 'q5490', 'q5575', 'q6127', 'q6127', 'q4908', 'q6730', 'q206', 'q218', 'q6722', 'q4572', 'q10022', 'q5659', 'q5659', 'q6528', 'q3957', 'q3631', 'q5714', 'q4758', 'q4103', 'q99', 'q4813', 'q4025', 'q5756', 'q4014', 'q5396', 'q5740', 'q5607', 'q4995', 'q4160', 'q3714', 'q6045', 'q6045', 'q3658', 'q6390', 'q6390', 'q5765', 'q4226', 'q6466', 'q9798', 'q3684', 'q3810', 'q6184', 'q10096', 'q6188', 'q5844', 'q4591', 'q5832', 'q6202', 'q6168', 'q5233', 'q8773', 'q5600', 'q5575', 'q6017', 'q8906', 'q8906', 'q8906', 'q5172', 'q4539', 'q5432', 'q10308', 'q5236', 'q4057', 'q6548', 'q10140', 'q8692', 'q5067']\n"
     ]
    }
   ],
   "source": [
    "max_score = 0\n",
    "# total_q = set(total_q)\n",
    "print(total_q)"
   ]
  },
  {
   "cell_type": "code",
   "execution_count": 19,
   "id": "b0f5434a-aa9b-4358-8f26-561a9ac1e787",
   "metadata": {},
   "outputs": [
    {
     "name": "stdout",
     "output_type": "stream",
     "text": [
      "{'u533092': 0.4444444444444444, 'u5901': 0.5247524752475248, 'u734989': 0.4, 'u763609': 0.72, 'u347548': 0.36363636363636365, 'u265925': 0.6, 'u319352': 0.5454545454545454, 'u406983': 0.5121951219512195}\n"
     ]
    }
   ],
   "source": [
    "print(student_sr)"
   ]
  },
  {
   "cell_type": "code",
   "execution_count": 28,
   "id": "7d7462c9-2afc-49b3-9494-e32f937d2b67",
   "metadata": {},
   "outputs": [
    {
     "data": {
      "image/png": "[encoded data removed]",
      "text/plain": [
       "<Figure size 432x288 with 1 Axes>"
      ]
     },
     "metadata": {
      "needs_background": "light"
     },
     "output_type": "display_data"
    }
   ],
   "source": [
    "fig = plt.figure()\n",
    "ax = fig.add_axes([0,0,1,1])\n",
    "students = student_sr.keys()\n",
    "success_rates = student_sr.values()\n",
    "ax.bar(students,success_rates)\n",
    "plt.show()"
   ]
  },
  {
   "cell_type": "markdown",
   "id": "8265cc2d-f5c4-40e6-becf-318440b7884d",
   "metadata": {},
   "source": [
    "Question: if we take just the students with higher than 50% success rate, train the model on them, can we then generate a path that produces more than 50% from students who previously got worse success rates?"
   ]
  },
  {
   "cell_type": "code",
   "execution_count": null,
   "id": "b806ae04-8bd6-42c4-a8d4-ccc9cf935021",
   "metadata": {},
   "outputs": [],
   "source": []
  }
 ],
 "metadata": {
  "kernelspec": {
   "display_name": "algovera",
   "language": "python",
   "name": "algovera"
  },
  "language_info": {
   "codemirror_mode": {
    "name": "ipython",
    "version": 3
   },
   "file_extension": ".py",
   "mimetype": "text/x-python",
   "name": "python",
   "nbconvert_exporter": "python",
   "pygments_lexer": "ipython3",
   "version": "3.9.5"
  }
 },
 "nbformat": 4,
 "nbformat_minor": 5
}
