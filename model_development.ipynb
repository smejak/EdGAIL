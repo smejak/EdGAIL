{
 "cells": [
  {
   "cell_type": "markdown",
   "id": "c4a05ce5-63c8-4322-9ad8-8861bad86100",
   "metadata": {},
   "source": [
    "# Model implementation\n",
    "I have 8 student samples. Initially, I want to create a model which will generate the last row of data given all the previous data. For this, I can probably just have a 5/2 train/test split. The idea is to get some initial models going and get them ready for training on the entire dataset."
   ]
  },
  {
   "cell_type": "code",
   "execution_count": null,
   "id": "7b5429bb-90f1-436c-88f7-da642332e753",
   "metadata": {},
   "outputs": [],
   "source": []
  }
 ],
 "metadata": {
  "kernelspec": {
   "display_name": "algovera",
   "language": "python",
   "name": "algovera"
  },
  "language_info": {
   "codemirror_mode": {
    "name": "ipython",
    "version": 3
   },
   "file_extension": ".py",
   "mimetype": "text/x-python",
   "name": "python",
   "nbconvert_exporter": "python",
   "pygments_lexer": "ipython3",
   "version": "3.9.5"
  }
 },
 "nbformat": 4,
 "nbformat_minor": 5
}
